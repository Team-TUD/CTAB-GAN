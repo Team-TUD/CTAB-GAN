{
 "cells": [
  {
   "cell_type": "code",
   "execution_count": 1,
   "metadata": {},
   "outputs": [],
   "source": [
    "from model.ctabgan import CTABGAN\n",
    "from model.eval.evaluation import get_utility_metrics,stat_sim,privacy_metrics\n",
    "import numpy as np\n",
    "import pandas as pd\n",
    "import glob"
   ]
  },
  {
   "cell_type": "code",
   "execution_count": 2,
   "metadata": {},
   "outputs": [],
   "source": [
    "num_exp = 1\n",
    "dataset = \"Adult\"\n",
    "real_path = \"Real_Datasets/Adult.csv\"\n",
    "fake_file_root = \"Fake_Datasets\""
   ]
  },
  {
   "cell_type": "code",
   "execution_count": null,
   "metadata": {},
   "outputs": [
    {
     "name": "stdout",
     "output_type": "stream",
     "text": [
      "\n"
     ]
    },
    {
     "name": "stderr",
     "output_type": "stream",
     "text": [
      "\r",
      "  0%|                                                                                                                                                 | 0/300 [00:00<?, ?it/s]"
     ]
    }
   ],
   "source": [
    "synthesizer =  CTABGAN(raw_csv_path = real_path,\n",
    "                 test_ratio = 0.20,\n",
    "                 categorical_columns = ['workclass', 'education', 'marital-status', 'occupation', 'relationship', 'race', 'gender', 'native-country', 'income'], \n",
    "                 log_columns = [],\n",
    "                 mixed_columns= {'capital-loss':[0.0],'capital-gain':[0.0]},\n",
    "                 integer_columns = ['age', 'fnlwgt','capital-gain', 'capital-loss','hours-per-week'],\n",
    "                 problem_type= {\"Classification\": 'income'},\n",
    "                 epochs = 300,\n",
    "                 batch_size = 500,\n",
    "                 class_dim = (256, 256, 256, 256),\n",
    "                 random_dim = 100,\n",
    "                 num_channels = 64,\n",
    "                 l2scale = 1e-5) \n",
    "\n",
    "for i in range(num_exp):\n",
    "    synthesizer.fit()\n",
    "    syn = synthesizer.generate_samples(100)\n",
    "    syn.to_csv(fake_file_root+\"/\"+dataset+\"/\"+ dataset+\"_fake_{exp}.csv\".format(exp=i), index= False)"
   ]
  },
  {
   "cell_type": "code",
   "execution_count": 5,
   "metadata": {},
   "outputs": [],
   "source": [
    "fake_paths = glob.glob(fake_file_root+\"/\"+dataset+\"/\"+\"*\")"
   ]
  },
  {
   "cell_type": "code",
   "execution_count": 6,
   "metadata": {},
   "outputs": [
    {
     "data": {
      "text/html": [
       "<div>\n",
       "<style scoped>\n",
       "    .dataframe tbody tr th:only-of-type {\n",
       "        vertical-align: middle;\n",
       "    }\n",
       "\n",
       "    .dataframe tbody tr th {\n",
       "        vertical-align: top;\n",
       "    }\n",
       "\n",
       "    .dataframe thead th {\n",
       "        text-align: right;\n",
       "    }\n",
       "</style>\n",
       "<table border=\"1\" class=\"dataframe\">\n",
       "  <thead>\n",
       "    <tr style=\"text-align: right;\">\n",
       "      <th></th>\n",
       "      <th>Acc</th>\n",
       "      <th>AUC</th>\n",
       "      <th>F1_Score</th>\n",
       "    </tr>\n",
       "  </thead>\n",
       "  <tbody>\n",
       "    <tr>\n",
       "      <th>lr</th>\n",
       "      <td>8.383663</td>\n",
       "      <td>0.076099</td>\n",
       "      <td>-0.016126</td>\n",
       "    </tr>\n",
       "    <tr>\n",
       "      <th>dt</th>\n",
       "      <td>11.372710</td>\n",
       "      <td>0.116821</td>\n",
       "      <td>0.126888</td>\n",
       "    </tr>\n",
       "    <tr>\n",
       "      <th>rf</th>\n",
       "      <td>11.587675</td>\n",
       "      <td>0.119969</td>\n",
       "      <td>0.120840</td>\n",
       "    </tr>\n",
       "    <tr>\n",
       "      <th>mlp</th>\n",
       "      <td>11.700276</td>\n",
       "      <td>0.095017</td>\n",
       "      <td>0.088192</td>\n",
       "    </tr>\n",
       "  </tbody>\n",
       "</table>\n",
       "</div>"
      ],
      "text/plain": [
       "           Acc       AUC  F1_Score\n",
       "lr    8.383663  0.076099 -0.016126\n",
       "dt   11.372710  0.116821  0.126888\n",
       "rf   11.587675  0.119969  0.120840\n",
       "mlp  11.700276  0.095017  0.088192"
      ]
     },
     "execution_count": 6,
     "metadata": {},
     "output_type": "execute_result"
    }
   ],
   "source": [
    "classifiers_list = [\"lr\",\"dt\",\"rf\",\"mlp\"]\n",
    "result_mat = get_utility_metrics(real_path,fake_paths,\"MinMax\",classifiers_list, test_ratio = 0.20)\n",
    "\n",
    "result_df  = pd.DataFrame(result_mat,columns=[\"Acc\",\"AUC\",\"F1_Score\"])\n",
    "result_df.index = classifiers_list\n",
    "result_df"
   ]
  },
  {
   "cell_type": "code",
   "execution_count": 7,
   "metadata": {},
   "outputs": [
    {
     "data": {
      "text/html": [
       "<div>\n",
       "<style scoped>\n",
       "    .dataframe tbody tr th:only-of-type {\n",
       "        vertical-align: middle;\n",
       "    }\n",
       "\n",
       "    .dataframe tbody tr th {\n",
       "        vertical-align: top;\n",
       "    }\n",
       "\n",
       "    .dataframe thead th {\n",
       "        text-align: right;\n",
       "    }\n",
       "</style>\n",
       "<table border=\"1\" class=\"dataframe\">\n",
       "  <thead>\n",
       "    <tr style=\"text-align: right;\">\n",
       "      <th></th>\n",
       "      <th>Average WD (Continuous Columns</th>\n",
       "      <th>Average JSD (Categorical Columns)</th>\n",
       "      <th>Correlation Distance</th>\n",
       "    </tr>\n",
       "  </thead>\n",
       "  <tbody>\n",
       "    <tr>\n",
       "      <th>0</th>\n",
       "      <td>0.018747</td>\n",
       "      <td>0.085125</td>\n",
       "      <td>1.847952</td>\n",
       "    </tr>\n",
       "  </tbody>\n",
       "</table>\n",
       "</div>"
      ],
      "text/plain": [
       "   Average WD (Continuous Columns  Average JSD (Categorical Columns)  \\\n",
       "0                        0.018747                           0.085125   \n",
       "\n",
       "   Correlation Distance  \n",
       "0              1.847952  "
      ]
     },
     "execution_count": 7,
     "metadata": {},
     "output_type": "execute_result"
    }
   ],
   "source": [
    "adult_categorical = ['workclass', 'education', 'marital-status', 'occupation', 'relationship', 'race', 'gender', 'native-country', 'income']\n",
    "stat_res_avg = []\n",
    "for fake_path in fake_paths:\n",
    "    stat_res = stat_sim(real_path,fake_path,adult_categorical)\n",
    "    stat_res_avg.append(stat_res)\n",
    "\n",
    "stat_columns = [\"Average WD (Continuous Columns\",\"Average JSD (Categorical Columns)\",\"Correlation Distance\"]\n",
    "stat_results = pd.DataFrame(np.array(stat_res_avg).mean(axis=0).reshape(1,3),columns=stat_columns)\n",
    "stat_results"
   ]
  },
  {
   "cell_type": "code",
   "execution_count": 8,
   "metadata": {},
   "outputs": [
    {
     "data": {
      "text/html": [
       "<div>\n",
       "<style scoped>\n",
       "    .dataframe tbody tr th:only-of-type {\n",
       "        vertical-align: middle;\n",
       "    }\n",
       "\n",
       "    .dataframe tbody tr th {\n",
       "        vertical-align: top;\n",
       "    }\n",
       "\n",
       "    .dataframe thead th {\n",
       "        text-align: right;\n",
       "    }\n",
       "</style>\n",
       "<table border=\"1\" class=\"dataframe\">\n",
       "  <thead>\n",
       "    <tr style=\"text-align: right;\">\n",
       "      <th></th>\n",
       "      <th>DCR between Real and Fake (5th perc)</th>\n",
       "      <th>DCR within Real(5th perc)</th>\n",
       "      <th>DCR within Fake (5th perc)</th>\n",
       "      <th>NNDR between Real and Fake (5th perc)</th>\n",
       "      <th>NNDR within Real (5th perc)</th>\n",
       "      <th>NNDR within Fake (5th perc)</th>\n",
       "    </tr>\n",
       "  </thead>\n",
       "  <tbody>\n",
       "    <tr>\n",
       "      <th>0</th>\n",
       "      <td>0.569546</td>\n",
       "      <td>0.216545</td>\n",
       "      <td>0.451031</td>\n",
       "      <td>0.634042</td>\n",
       "      <td>0.442052</td>\n",
       "      <td>0.567227</td>\n",
       "    </tr>\n",
       "  </tbody>\n",
       "</table>\n",
       "</div>"
      ],
      "text/plain": [
       "   DCR between Real and Fake (5th perc)  DCR within Real(5th perc)  \\\n",
       "0                              0.569546                   0.216545   \n",
       "\n",
       "   DCR within Fake (5th perc)  NNDR between Real and Fake (5th perc)  \\\n",
       "0                    0.451031                               0.634042   \n",
       "\n",
       "   NNDR within Real (5th perc)  NNDR within Fake (5th perc)  \n",
       "0                     0.442052                     0.567227  "
      ]
     },
     "execution_count": 8,
     "metadata": {},
     "output_type": "execute_result"
    }
   ],
   "source": [
    "priv_res_avg = []\n",
    "for fake_path in fake_paths:\n",
    "    priv_res = privacy_metrics(real_path,fake_path)\n",
    "    priv_res_avg.append(priv_res)\n",
    "    \n",
    "privacy_columns = [\"DCR between Real and Fake (5th perc)\",\"DCR within Real(5th perc)\",\"DCR within Fake (5th perc)\",\"NNDR between Real and Fake (5th perc)\",\"NNDR within Real (5th perc)\",\"NNDR within Fake (5th perc)\"]\n",
    "privacy_results = pd.DataFrame(np.array(priv_res_avg).mean(axis=0).reshape(1,6),columns=privacy_columns)\n",
    "privacy_results"
   ]
  },
  {
   "cell_type": "code",
   "execution_count": 10,
   "metadata": {},
   "outputs": [],
   "source": [
    "syn.to_csv(fake_file_root+\"/\"+dataset+\"/\"+ dataset+\"_fake_{exp}.csv\".format(exp=i), index= False)"
   ]
  },
  {
   "cell_type": "code",
   "execution_count": null,
   "metadata": {},
   "outputs": [],
   "source": []
  }
 ],
 "metadata": {
  "interpreter": {
   "hash": "5bbd4e8a0020626d1955d6e7d647b883363040a056d10513dec12a340be08610"
  },
  "kernelspec": {
   "display_name": "Python 3 (ipykernel)",
   "language": "python",
   "name": "python3"
  },
  "language_info": {
   "codemirror_mode": {
    "name": "ipython",
    "version": 3
   },
   "file_extension": ".py",
   "mimetype": "text/x-python",
   "name": "python",
   "nbconvert_exporter": "python",
   "pygments_lexer": "ipython3",
   "version": "3.9.7"
  }
 },
 "nbformat": 4,
 "nbformat_minor": 2
}
